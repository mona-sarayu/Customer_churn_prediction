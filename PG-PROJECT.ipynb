{
 "cells": [
  {
   "cell_type": "code",
   "execution_count": 48,
   "id": "777b7f86",
   "metadata": {},
   "outputs": [
    {
     "name": "stdout",
     "output_type": "stream",
     "text": [
      "Tensorflow Version: 2.13.0\n"
     ]
    }
   ],
   "source": [
    "import pandas as pd \n",
    "import numpy as np \n",
    "import matplotlib.pyplot as plt \n",
    "import seaborn as sns \n",
    "import warnings \n",
    "import os \n",
    "import time \n",
    "from sklearn.preprocessing import OneHotEncoder, StandardScaler\n",
    "from sklearn.model_selection import train_test_split, cross_val_score, GridSearchCV, RandomizedSearchCV, KFold\n",
    "from sklearn.metrics import confusion_matrix \n",
    "from imblearn.over_sampling import SMOTE\n",
    "import tensorflow as tf\n",
    "print(\"Tensorflow Version:\",tf.__version__)\n",
    "from tensorflow.keras.layers import Input, Dense, Dropout, LeakyReLU\n",
    "from tensorflow.keras.models import Model\n",
    "import warnings\n",
    "warnings.filterwarnings(\"ignore\", category=DeprecationWarning) \n",
    "warnings.filterwarnings(\"ignore\", category=FutureWarning) \n",
    "warnings.filterwarnings(\"ignore\", category=UserWarning) \n",
    "%matplotlib inline "
   ]
  },
  {
   "cell_type": "code",
   "execution_count": 49,
   "id": "a4256572",
   "metadata": {},
   "outputs": [],
   "source": [
    "def correlation_matrix(df):\n",
    "\n",
    "    corr = df.corr()\n",
    "    f, ax = plt.subplots(figsize=(10, 10))\n",
    "    cmap = sns.diverging_palette(220, 10, as_cmap=True)\n",
    "    sns.heatmap(corr, mask=None, cmap=cmap, vmax=.3, center=0,\n",
    "                square=True, linewidths=.5, cbar_kws={\"shrink\": .5})\n",
    "\n",
    "    \n",
    "def make_dummy(df, feature):\n",
    "\n",
    "    dummy = pd.get_dummies(df[feature])\n",
    "    return(dummy)\n",
    "\n"
   ]
  },
  {
   "cell_type": "code",
   "execution_count": 50,
   "id": "cf5150a9",
   "metadata": {},
   "outputs": [
    {
     "name": "stdout",
     "output_type": "stream",
     "text": [
      "The dataset has  10000  data points and  14  features.\n",
      "\n",
      "\n"
     ]
    }
   ],
   "source": [
    "df = pd.read_csv(\"Churn_Modelling.csv\", index_col=False)\n",
    "print(\"The dataset has \", df.shape[0], \" data points and \", df.shape[1], \" features.\\n\\n\")"
   ]
  },
  {
   "cell_type": "code",
   "execution_count": 51,
   "id": "13edc04c",
   "metadata": {},
   "outputs": [
    {
     "data": {
      "text/html": [
       "<div>\n",
       "<style scoped>\n",
       "    .dataframe tbody tr th:only-of-type {\n",
       "        vertical-align: middle;\n",
       "    }\n",
       "\n",
       "    .dataframe tbody tr th {\n",
       "        vertical-align: top;\n",
       "    }\n",
       "\n",
       "    .dataframe thead th {\n",
       "        text-align: right;\n",
       "    }\n",
       "</style>\n",
       "<table border=\"1\" class=\"dataframe\">\n",
       "  <thead>\n",
       "    <tr style=\"text-align: right;\">\n",
       "      <th></th>\n",
       "      <th>RowNumber</th>\n",
       "      <th>CustomerId</th>\n",
       "      <th>Surname</th>\n",
       "      <th>CreditScore</th>\n",
       "      <th>Geography</th>\n",
       "      <th>Gender</th>\n",
       "      <th>Age</th>\n",
       "      <th>Tenure</th>\n",
       "      <th>Balance</th>\n",
       "      <th>NumOfProducts</th>\n",
       "      <th>HasCrCard</th>\n",
       "      <th>IsActiveMember</th>\n",
       "      <th>EstimatedSalary</th>\n",
       "      <th>Exited</th>\n",
       "    </tr>\n",
       "  </thead>\n",
       "  <tbody>\n",
       "    <tr>\n",
       "      <th>0</th>\n",
       "      <td>1</td>\n",
       "      <td>15634602</td>\n",
       "      <td>Hargrave</td>\n",
       "      <td>619</td>\n",
       "      <td>France</td>\n",
       "      <td>Female</td>\n",
       "      <td>42</td>\n",
       "      <td>2</td>\n",
       "      <td>0.00</td>\n",
       "      <td>1</td>\n",
       "      <td>1</td>\n",
       "      <td>1</td>\n",
       "      <td>101348.88</td>\n",
       "      <td>1</td>\n",
       "    </tr>\n",
       "    <tr>\n",
       "      <th>1</th>\n",
       "      <td>2</td>\n",
       "      <td>15647311</td>\n",
       "      <td>Hill</td>\n",
       "      <td>608</td>\n",
       "      <td>Spain</td>\n",
       "      <td>Female</td>\n",
       "      <td>41</td>\n",
       "      <td>1</td>\n",
       "      <td>83807.86</td>\n",
       "      <td>1</td>\n",
       "      <td>0</td>\n",
       "      <td>1</td>\n",
       "      <td>112542.58</td>\n",
       "      <td>0</td>\n",
       "    </tr>\n",
       "    <tr>\n",
       "      <th>2</th>\n",
       "      <td>3</td>\n",
       "      <td>15619304</td>\n",
       "      <td>Onio</td>\n",
       "      <td>502</td>\n",
       "      <td>France</td>\n",
       "      <td>Female</td>\n",
       "      <td>42</td>\n",
       "      <td>8</td>\n",
       "      <td>159660.80</td>\n",
       "      <td>3</td>\n",
       "      <td>1</td>\n",
       "      <td>0</td>\n",
       "      <td>113931.57</td>\n",
       "      <td>1</td>\n",
       "    </tr>\n",
       "    <tr>\n",
       "      <th>3</th>\n",
       "      <td>4</td>\n",
       "      <td>15701354</td>\n",
       "      <td>Boni</td>\n",
       "      <td>699</td>\n",
       "      <td>France</td>\n",
       "      <td>Female</td>\n",
       "      <td>39</td>\n",
       "      <td>1</td>\n",
       "      <td>0.00</td>\n",
       "      <td>2</td>\n",
       "      <td>0</td>\n",
       "      <td>0</td>\n",
       "      <td>93826.63</td>\n",
       "      <td>0</td>\n",
       "    </tr>\n",
       "    <tr>\n",
       "      <th>4</th>\n",
       "      <td>5</td>\n",
       "      <td>15737888</td>\n",
       "      <td>Mitchell</td>\n",
       "      <td>850</td>\n",
       "      <td>Spain</td>\n",
       "      <td>Female</td>\n",
       "      <td>43</td>\n",
       "      <td>2</td>\n",
       "      <td>125510.82</td>\n",
       "      <td>1</td>\n",
       "      <td>1</td>\n",
       "      <td>1</td>\n",
       "      <td>79084.10</td>\n",
       "      <td>0</td>\n",
       "    </tr>\n",
       "  </tbody>\n",
       "</table>\n",
       "</div>"
      ],
      "text/plain": [
       "   RowNumber  CustomerId   Surname  CreditScore Geography  Gender  Age  \\\n",
       "0          1    15634602  Hargrave          619    France  Female   42   \n",
       "1          2    15647311      Hill          608     Spain  Female   41   \n",
       "2          3    15619304      Onio          502    France  Female   42   \n",
       "3          4    15701354      Boni          699    France  Female   39   \n",
       "4          5    15737888  Mitchell          850     Spain  Female   43   \n",
       "\n",
       "   Tenure    Balance  NumOfProducts  HasCrCard  IsActiveMember  \\\n",
       "0       2       0.00              1          1               1   \n",
       "1       1   83807.86              1          0               1   \n",
       "2       8  159660.80              3          1               0   \n",
       "3       1       0.00              2          0               0   \n",
       "4       2  125510.82              1          1               1   \n",
       "\n",
       "   EstimatedSalary  Exited  \n",
       "0        101348.88       1  \n",
       "1        112542.58       0  \n",
       "2        113931.57       1  \n",
       "3         93826.63       0  \n",
       "4         79084.10       0  "
      ]
     },
     "execution_count": 51,
     "metadata": {},
     "output_type": "execute_result"
    }
   ],
   "source": [
    "df.head()"
   ]
  },
  {
   "cell_type": "code",
   "execution_count": 52,
   "id": "f0810a9a",
   "metadata": {},
   "outputs": [
    {
     "data": {
      "text/html": [
       "<div>\n",
       "<style scoped>\n",
       "    .dataframe tbody tr th:only-of-type {\n",
       "        vertical-align: middle;\n",
       "    }\n",
       "\n",
       "    .dataframe tbody tr th {\n",
       "        vertical-align: top;\n",
       "    }\n",
       "\n",
       "    .dataframe thead th {\n",
       "        text-align: right;\n",
       "    }\n",
       "</style>\n",
       "<table border=\"1\" class=\"dataframe\">\n",
       "  <thead>\n",
       "    <tr style=\"text-align: right;\">\n",
       "      <th></th>\n",
       "      <th>RowNumber</th>\n",
       "      <th>CustomerId</th>\n",
       "      <th>CreditScore</th>\n",
       "      <th>Age</th>\n",
       "      <th>Tenure</th>\n",
       "      <th>Balance</th>\n",
       "      <th>NumOfProducts</th>\n",
       "      <th>HasCrCard</th>\n",
       "      <th>IsActiveMember</th>\n",
       "      <th>EstimatedSalary</th>\n",
       "      <th>Exited</th>\n",
       "    </tr>\n",
       "  </thead>\n",
       "  <tbody>\n",
       "    <tr>\n",
       "      <th>count</th>\n",
       "      <td>10000.00000</td>\n",
       "      <td>1.000000e+04</td>\n",
       "      <td>10000.000000</td>\n",
       "      <td>10000.000000</td>\n",
       "      <td>10000.000000</td>\n",
       "      <td>10000.000000</td>\n",
       "      <td>10000.000000</td>\n",
       "      <td>10000.00000</td>\n",
       "      <td>10000.000000</td>\n",
       "      <td>10000.000000</td>\n",
       "      <td>10000.000000</td>\n",
       "    </tr>\n",
       "    <tr>\n",
       "      <th>mean</th>\n",
       "      <td>5000.50000</td>\n",
       "      <td>1.569094e+07</td>\n",
       "      <td>650.528800</td>\n",
       "      <td>38.921800</td>\n",
       "      <td>5.012800</td>\n",
       "      <td>76485.889288</td>\n",
       "      <td>1.530200</td>\n",
       "      <td>0.70550</td>\n",
       "      <td>0.515100</td>\n",
       "      <td>100090.239881</td>\n",
       "      <td>0.203700</td>\n",
       "    </tr>\n",
       "    <tr>\n",
       "      <th>std</th>\n",
       "      <td>2886.89568</td>\n",
       "      <td>7.193619e+04</td>\n",
       "      <td>96.653299</td>\n",
       "      <td>10.487806</td>\n",
       "      <td>2.892174</td>\n",
       "      <td>62397.405202</td>\n",
       "      <td>0.581654</td>\n",
       "      <td>0.45584</td>\n",
       "      <td>0.499797</td>\n",
       "      <td>57510.492818</td>\n",
       "      <td>0.402769</td>\n",
       "    </tr>\n",
       "    <tr>\n",
       "      <th>min</th>\n",
       "      <td>1.00000</td>\n",
       "      <td>1.556570e+07</td>\n",
       "      <td>350.000000</td>\n",
       "      <td>18.000000</td>\n",
       "      <td>0.000000</td>\n",
       "      <td>0.000000</td>\n",
       "      <td>1.000000</td>\n",
       "      <td>0.00000</td>\n",
       "      <td>0.000000</td>\n",
       "      <td>11.580000</td>\n",
       "      <td>0.000000</td>\n",
       "    </tr>\n",
       "    <tr>\n",
       "      <th>25%</th>\n",
       "      <td>2500.75000</td>\n",
       "      <td>1.562853e+07</td>\n",
       "      <td>584.000000</td>\n",
       "      <td>32.000000</td>\n",
       "      <td>3.000000</td>\n",
       "      <td>0.000000</td>\n",
       "      <td>1.000000</td>\n",
       "      <td>0.00000</td>\n",
       "      <td>0.000000</td>\n",
       "      <td>51002.110000</td>\n",
       "      <td>0.000000</td>\n",
       "    </tr>\n",
       "    <tr>\n",
       "      <th>50%</th>\n",
       "      <td>5000.50000</td>\n",
       "      <td>1.569074e+07</td>\n",
       "      <td>652.000000</td>\n",
       "      <td>37.000000</td>\n",
       "      <td>5.000000</td>\n",
       "      <td>97198.540000</td>\n",
       "      <td>1.000000</td>\n",
       "      <td>1.00000</td>\n",
       "      <td>1.000000</td>\n",
       "      <td>100193.915000</td>\n",
       "      <td>0.000000</td>\n",
       "    </tr>\n",
       "    <tr>\n",
       "      <th>75%</th>\n",
       "      <td>7500.25000</td>\n",
       "      <td>1.575323e+07</td>\n",
       "      <td>718.000000</td>\n",
       "      <td>44.000000</td>\n",
       "      <td>7.000000</td>\n",
       "      <td>127644.240000</td>\n",
       "      <td>2.000000</td>\n",
       "      <td>1.00000</td>\n",
       "      <td>1.000000</td>\n",
       "      <td>149388.247500</td>\n",
       "      <td>0.000000</td>\n",
       "    </tr>\n",
       "    <tr>\n",
       "      <th>max</th>\n",
       "      <td>10000.00000</td>\n",
       "      <td>1.581569e+07</td>\n",
       "      <td>850.000000</td>\n",
       "      <td>92.000000</td>\n",
       "      <td>10.000000</td>\n",
       "      <td>250898.090000</td>\n",
       "      <td>4.000000</td>\n",
       "      <td>1.00000</td>\n",
       "      <td>1.000000</td>\n",
       "      <td>199992.480000</td>\n",
       "      <td>1.000000</td>\n",
       "    </tr>\n",
       "  </tbody>\n",
       "</table>\n",
       "</div>"
      ],
      "text/plain": [
       "         RowNumber    CustomerId   CreditScore           Age        Tenure  \\\n",
       "count  10000.00000  1.000000e+04  10000.000000  10000.000000  10000.000000   \n",
       "mean    5000.50000  1.569094e+07    650.528800     38.921800      5.012800   \n",
       "std     2886.89568  7.193619e+04     96.653299     10.487806      2.892174   \n",
       "min        1.00000  1.556570e+07    350.000000     18.000000      0.000000   \n",
       "25%     2500.75000  1.562853e+07    584.000000     32.000000      3.000000   \n",
       "50%     5000.50000  1.569074e+07    652.000000     37.000000      5.000000   \n",
       "75%     7500.25000  1.575323e+07    718.000000     44.000000      7.000000   \n",
       "max    10000.00000  1.581569e+07    850.000000     92.000000     10.000000   \n",
       "\n",
       "             Balance  NumOfProducts    HasCrCard  IsActiveMember  \\\n",
       "count   10000.000000   10000.000000  10000.00000    10000.000000   \n",
       "mean    76485.889288       1.530200      0.70550        0.515100   \n",
       "std     62397.405202       0.581654      0.45584        0.499797   \n",
       "min         0.000000       1.000000      0.00000        0.000000   \n",
       "25%         0.000000       1.000000      0.00000        0.000000   \n",
       "50%     97198.540000       1.000000      1.00000        1.000000   \n",
       "75%    127644.240000       2.000000      1.00000        1.000000   \n",
       "max    250898.090000       4.000000      1.00000        1.000000   \n",
       "\n",
       "       EstimatedSalary        Exited  \n",
       "count     10000.000000  10000.000000  \n",
       "mean     100090.239881      0.203700  \n",
       "std       57510.492818      0.402769  \n",
       "min          11.580000      0.000000  \n",
       "25%       51002.110000      0.000000  \n",
       "50%      100193.915000      0.000000  \n",
       "75%      149388.247500      0.000000  \n",
       "max      199992.480000      1.000000  "
      ]
     },
     "execution_count": 52,
     "metadata": {},
     "output_type": "execute_result"
    }
   ],
   "source": [
    "df.describe()"
   ]
  },
  {
   "cell_type": "code",
   "execution_count": 53,
   "id": "9a3c1173",
   "metadata": {},
   "outputs": [
    {
     "data": {
      "image/png": "[encoded data removed]",
      "text/plain": [
       "<Figure size 720x576 with 1 Axes>"
      ]
     },
     "metadata": {},
     "output_type": "display_data"
    }
   ],
   "source": [
    "labels = 'Exited', 'Retained'\n",
    "sizes = [df.Exited[df['Exited']==1].count(), df.Exited[df['Exited']==0].count()]\n",
    "explode = (0, 0.1)\n",
    "fig1, ax1 = plt.subplots(figsize=(10, 8))\n",
    "ax1.pie(sizes, explode=explode, labels=labels, autopct='%1.1f%%',\n",
    "        shadow=True, startangle=90)\n",
    "ax1.axis('equal')\n",
    "plt.title(\"Proportion of customer churned and retained\", size = 20)\n",
    "plt.show()"
   ]
  },
  {
   "cell_type": "code",
   "execution_count": 54,
   "id": "270a672f",
   "metadata": {},
   "outputs": [
    {
     "data": {
      "text/plain": [
       "<AxesSubplot:xlabel='Exited', ylabel='count'>"
      ]
     },
     "execution_count": 54,
     "metadata": {},
     "output_type": "execute_result"
    },
    {
     "data": {
      "image/png": "[encoded data removed]",
      "text/plain": [
       "<Figure size 1440x864 with 4 Axes>"
      ]
     },
     "metadata": {
      "needs_background": "light"
     },
     "output_type": "display_data"
    }
   ],
   "source": [
    "fig, axarr = plt.subplots(2, 2, figsize=(20, 12))\n",
    "sns.countplot(x='Geography', hue = 'Exited',data = df, ax=axarr[0][0])\n",
    "sns.countplot(x='Gender', hue = 'Exited',data = df, ax=axarr[0][1])\n",
    "sns.countplot(x='HasCrCard', hue = 'Exited',data = df, ax=axarr[1][0])\n",
    "sns.countplot(x=df['Exited'])"
   ]
  },
  {
   "cell_type": "code",
   "execution_count": 55,
   "id": "f846986a",
   "metadata": {},
   "outputs": [
    {
     "data": {
      "text/plain": [
       "<AxesSubplot:>"
      ]
     },
     "execution_count": 55,
     "metadata": {},
     "output_type": "execute_result"
    },
    {
     "data": {
      "image/png": "[encoded data removed]",
      "text/plain": [
       "<Figure size 720x720 with 2 Axes>"
      ]
     },
     "metadata": {
      "needs_background": "light"
     },
     "output_type": "display_data"
    }
   ],
   "source": [
    "corr = df.corr()\n",
    "f, ax = plt.subplots(figsize=(10, 10))\n",
    "cmap = sns.diverging_palette(220, 20, as_cmap=True)\n",
    "sns.heatmap(corr, mask=None, cmap=cmap, vmax=.3, center=0,\n",
    "            square=True, linewidths=.5, cbar_kws={\"shrink\": .5})"
   ]
  },
  {
   "cell_type": "code",
   "execution_count": 56,
   "id": "00633a26",
   "metadata": {},
   "outputs": [],
   "source": [
    "data = df.drop(['RowNumber','CustomerId','Surname'], axis=1)\n",
    "\n",
    "dummy_feature_list = ['Gender','Geography'] \n",
    "for f in dummy_feature_list:\n",
    "    dumm = make_dummy(data,f)\n",
    "    data = pd.concat([data,dumm], axis=1)\n",
    "data = data.drop(dummy_feature_list, axis=1)\n"
   ]
  },
  {
   "cell_type": "code",
   "execution_count": 57,
   "id": "64dc3530",
   "metadata": {},
   "outputs": [],
   "source": [
    "X = data.drop(['Exited'],axis=1)\n",
    "y = data.Exited \n",
    "X_train,X_test,y_train,y_test = train_test_split(X,y,test_size=0.2,random_state=42)\n",
    "\n",
    "seed = 42\n",
    "k = 1 \n",
    "sm = SMOTE(sampling_strategy = 'minority', k_neighbors = k, random_state = seed)\n",
    "res_X, res_y = sm.fit_resample(X, y)\n",
    "res_X_train, res_X_test, res_y_train, res_y_test = train_test_split(res_X, res_y,test_size=0.2, random_state=42)\n",
    "\n",
    "scaler = StandardScaler()\n",
    "std_X = scaler.fit_transform(res_X)\n",
    "std_X_train,std_X_test,std_y_train,std_y_test = train_test_split(std_X,res_y,test_size=0.2,random_state=42) \n",
    "\n",
    "X_train,X_test,y_train,y_test = std_X_train,std_X_test,std_y_train,std_y_test"
   ]
  },
  {
   "cell_type": "code",
   "execution_count": 61,
   "id": "81215dd7",
   "metadata": {},
   "outputs": [
    {
     "name": "stdout",
     "output_type": "stream",
     "text": [
      "Model: \"model_2\"\n",
      "_________________________________________________________________\n",
      " Layer (type)                Output Shape              Param #   \n",
      "=================================================================\n",
      " input_3 (InputLayer)        [(None, 13)]              0         \n",
      "                                                                 \n",
      " dense_29 (Dense)            (None, 512)               7168      \n",
      "                                                                 \n",
      " dense_30 (Dense)            (None, 512)               262656    \n",
      "                                                                 \n",
      " dense_31 (Dense)            (None, 256)               131328    \n",
      "                                                                 \n",
      " dense_32 (Dense)            (None, 256)               65792     \n",
      "                                                                 \n",
      " dense_33 (Dense)            (None, 64)                16448     \n",
      "                                                                 \n",
      " dense_34 (Dense)            (None, 32)                2080      \n",
      "                                                                 \n",
      " dense_35 (Dense)            (None, 16)                528       \n",
      "                                                                 \n",
      " dense_36 (Dense)            (None, 1)                 17        \n",
      "                                                                 \n",
      "=================================================================\n",
      "Total params: 486017 (1.85 MB)\n",
      "Trainable params: 486017 (1.85 MB)\n",
      "Non-trainable params: 0 (0.00 Byte)\n",
      "_________________________________________________________________\n",
      "Epoch 1/13\n",
      "399/399 [==============================] - 7s 13ms/step - loss: 0.3361 - accuracy: 0.8472 - val_loss: 0.2726 - val_accuracy: 0.8851\n",
      "Epoch 2/13\n",
      "399/399 [==============================] - 5s 13ms/step - loss: 0.2843 - accuracy: 0.8743 - val_loss: 0.2857 - val_accuracy: 0.8766\n",
      "Epoch 3/13\n",
      "399/399 [==============================] - 5s 13ms/step - loss: 0.2803 - accuracy: 0.8744 - val_loss: 0.2792 - val_accuracy: 0.8779\n",
      "Epoch 4/13\n",
      "399/399 [==============================] - 5s 13ms/step - loss: 0.2729 - accuracy: 0.8803 - val_loss: 0.2727 - val_accuracy: 0.8829\n",
      "Epoch 5/13\n",
      "399/399 [==============================] - 5s 13ms/step - loss: 0.2679 - accuracy: 0.8833 - val_loss: 0.2705 - val_accuracy: 0.8836\n",
      "Epoch 6/13\n",
      "399/399 [==============================] - 5s 13ms/step - loss: 0.2631 - accuracy: 0.8856 - val_loss: 0.2746 - val_accuracy: 0.8801\n",
      "Epoch 7/13\n",
      "399/399 [==============================] - 5s 13ms/step - loss: 0.2588 - accuracy: 0.8858 - val_loss: 0.2784 - val_accuracy: 0.8795\n",
      "Epoch 8/13\n",
      "399/399 [==============================] - 5s 13ms/step - loss: 0.2521 - accuracy: 0.8884 - val_loss: 0.2663 - val_accuracy: 0.8851\n",
      "Epoch 9/13\n",
      "399/399 [==============================] - 5s 13ms/step - loss: 0.2466 - accuracy: 0.8939 - val_loss: 0.2818 - val_accuracy: 0.8748\n",
      "Epoch 10/13\n",
      "399/399 [==============================] - 5s 13ms/step - loss: 0.2395 - accuracy: 0.8964 - val_loss: 0.2837 - val_accuracy: 0.8836\n",
      "Epoch 11/13\n",
      "399/399 [==============================] - 5s 13ms/step - loss: 0.2374 - accuracy: 0.8979 - val_loss: 0.2794 - val_accuracy: 0.8798\n",
      "Epoch 12/13\n",
      "399/399 [==============================] - 5s 13ms/step - loss: 0.2282 - accuracy: 0.9020 - val_loss: 0.2672 - val_accuracy: 0.8870\n",
      "Epoch 13/13\n",
      "399/399 [==============================] - 5s 13ms/step - loss: 0.2217 - accuracy: 0.9076 - val_loss: 0.2725 - val_accuracy: 0.8820\n"
     ]
    }
   ],
   "source": [
    "from tensorflow.keras.models import Sequential\n",
    "model=Sequential()\n",
    "i = Input(shape=std_X_train[-1].shape)\n",
    "x = Dense(512,  activation='relu')(i)\n",
    "x = Dense(512,  activation='relu')(x)\n",
    "x = Dense(256,  activation='relu')(x)\n",
    "x = Dense(256,  activation='relu')(x)\n",
    "x = Dense(64, activation='relu')(x)\n",
    "x = Dense(32, activation='relu')(x)\n",
    "x = Dense(16, activation='relu')(x)\n",
    "x = Dense(1, activation='sigmoid')(x)\n",
    "\n",
    "\n",
    "model = Model(i, x)\n",
    "\n",
    "\n",
    "model.compile(optimizer='adam',\n",
    "              loss='binary_crossentropy',\n",
    "              metrics=['accuracy'])\n",
    "model.summary()\n",
    "\n",
    "r = model.fit(X_train, y_train, validation_data=(X_test, y_test), epochs=13)"
   ]
  },
  {
   "cell_type": "code",
   "execution_count": 62,
   "id": "f57c2efd",
   "metadata": {},
   "outputs": [
    {
     "data": {
      "text/plain": [
       "<matplotlib.legend.Legend at 0x23ee1d4eac0>"
      ]
     },
     "execution_count": 62,
     "metadata": {},
     "output_type": "execute_result"
    },
    {
     "data": {
      "image/png": "[encoded data removed]",
      "text/plain": [
       "<Figure size 432x288 with 1 Axes>"
      ]
     },
     "metadata": {
      "needs_background": "light"
     },
     "output_type": "display_data"
    }
   ],
   "source": [
    "plt.plot(r.history['accuracy'], label='acc')\n",
    "plt.plot(r.history['val_accuracy'], label='val_acc')\n",
    "plt.legend()"
   ]
  },
  {
   "cell_type": "code",
   "execution_count": 63,
   "id": "db23c79e",
   "metadata": {},
   "outputs": [
    {
     "data": {
      "text/plain": [
       "[<matplotlib.lines.Line2D at 0x23ebfabc550>]"
      ]
     },
     "execution_count": 63,
     "metadata": {},
     "output_type": "execute_result"
    },
    {
     "data": {
      "image/png": "[encoded data removed]",
      "text/plain": [
       "<Figure size 432x288 with 1 Axes>"
      ]
     },
     "metadata": {
      "needs_background": "light"
     },
     "output_type": "display_data"
    }
   ],
   "source": [
    "plt.plot(r.history['loss'])\n",
    "plt.plot(r.history['val_loss'])"
   ]
  },
  {
   "cell_type": "code",
   "execution_count": 64,
   "id": "9ed422c6",
   "metadata": {},
   "outputs": [
    {
     "data": {
      "text/plain": [
       "[array([[ 0.16574293, -0.10412686,  0.02565014, ...,  0.04512744,\n",
       "         -0.05925278, -0.13144077],\n",
       "        [-0.06460653, -0.13576545,  0.01992024, ..., -0.02857116,\n",
       "         -0.03763591,  0.03454191],\n",
       "        [-0.08459544, -0.12026356, -0.03116599, ..., -0.23690277,\n",
       "          0.00744914, -0.04042622],\n",
       "        ...,\n",
       "        [-0.00693448, -0.03410156, -0.04814154, ..., -0.13290033,\n",
       "         -0.12827766, -0.07166757],\n",
       "        [ 0.02010123, -0.16278584,  0.11522692, ...,  0.12540136,\n",
       "          0.00614205,  0.02087142],\n",
       "        [-0.06657324,  0.03772361, -0.03435418, ...,  0.09493341,\n",
       "         -0.01460395,  0.0071352 ]], dtype=float32),\n",
       " array([-0.11865819, -0.14609939,  0.02992134, -0.07666621, -0.14699942,\n",
       "        -0.00991394, -0.09200716, -0.1064456 ,  0.00117102, -0.13444723,\n",
       "        -0.05608515, -0.10173666, -0.18346755, -0.06062585, -0.08432941,\n",
       "        -0.12259587, -0.13813953, -0.13024706, -0.02102987, -0.18704863,\n",
       "        -0.07713652, -0.15054148, -0.02911123, -0.10271249, -0.10642835,\n",
       "        -0.00278576, -0.10202394, -0.14948413, -0.11243263, -0.04512082,\n",
       "        -0.19211903, -0.15060417, -0.13970931, -0.07468152,  0.01045682,\n",
       "         0.05947316,  0.02044146, -0.13559628,  0.03517403, -0.07181337,\n",
       "        -0.1265495 , -0.12106567, -0.08706406, -0.06557281, -0.03114433,\n",
       "        -0.06879254, -0.03852887, -0.15042552, -0.0539889 , -0.09608141,\n",
       "        -0.11732691,  0.00949715, -0.14774017, -0.07451902, -0.06911886,\n",
       "        -0.0285187 , -0.03432681,  0.00169039, -0.0382513 , -0.10156777,\n",
       "        -0.0071599 , -0.13493337, -0.09926809, -0.05813413, -0.11134858,\n",
       "        -0.08373167, -0.04572691, -0.13994333, -0.11896787, -0.17550245,\n",
       "        -0.07985904, -0.07517815, -0.03037534, -0.0584042 , -0.04558616,\n",
       "        -0.0405771 , -0.02403598,  0.0079583 , -0.08401627, -0.0621687 ,\n",
       "        -0.14159082, -0.02127615, -0.06615523, -0.06912468, -0.07744276,\n",
       "        -0.01228395, -0.08350818, -0.11864682, -0.10962789, -0.11077581,\n",
       "        -0.00787636, -0.1223349 , -0.07682206, -0.04774811, -0.18830891,\n",
       "        -0.08601376,  0.03547755, -0.08874052, -0.02733616, -0.10403583,\n",
       "        -0.01144053, -0.07777264, -0.14818813, -0.1316115 , -0.17939807,\n",
       "        -0.01773235, -0.09916175, -0.01986083, -0.07401933, -0.08238738,\n",
       "        -0.02337277, -0.12511826, -0.15913248,  0.00548393, -0.11484516,\n",
       "        -0.02002806, -0.0754193 , -0.08421581,  0.02265391, -0.17389767,\n",
       "        -0.09805934, -0.10874335, -0.09637199, -0.17803936, -0.17334342,\n",
       "        -0.1130064 , -0.07021262, -0.0621605 , -0.02193084, -0.14407986,\n",
       "        -0.12498339, -0.12475426, -0.07343231, -0.07035474, -0.0247883 ,\n",
       "        -0.17856309, -0.0130006 , -0.06685501, -0.08515406, -0.13476707,\n",
       "        -0.0850938 , -0.05856325, -0.06773651, -0.13284206, -0.16065346,\n",
       "        -0.01862994, -0.03791665, -0.09314328, -0.15865903, -0.13772471,\n",
       "        -0.05646921, -0.15047736, -0.08558818, -0.0911041 , -0.10532666,\n",
       "        -0.0704837 , -0.09795157, -0.10255251, -0.06119768, -0.09928337,\n",
       "        -0.19126719, -0.11463012, -0.10842416, -0.05298699, -0.06250636,\n",
       "         0.01305148, -0.05882238, -0.06286343,  0.06302316, -0.06294484,\n",
       "        -0.09782944, -0.06109378, -0.06070991, -0.14264557, -0.15701988,\n",
       "        -0.15424947, -0.10867456, -0.13904417, -0.08746625, -0.11283185,\n",
       "        -0.11502074,  0.02208311, -0.08497781, -0.05697179, -0.11008   ,\n",
       "        -0.14295988, -0.14527647,  0.04329892, -0.09740338, -0.11908336,\n",
       "        -0.02971371, -0.13114081, -0.08615142, -0.01183234, -0.04757645,\n",
       "        -0.05419069, -0.19982313, -0.10594901, -0.08358353, -0.1202476 ,\n",
       "        -0.0898583 , -0.08767422, -0.04793978, -0.14861445, -0.06181481,\n",
       "        -0.18495002, -0.01740303, -0.0893174 , -0.02678358, -0.16183197,\n",
       "        -0.06737269,  0.0203398 , -0.15787461, -0.11781734, -0.00179295,\n",
       "        -0.15532437, -0.07394228, -0.05988659, -0.01991866, -0.08674776,\n",
       "        -0.05230908, -0.0235567 , -0.12566814, -0.07063823,  0.00278352,\n",
       "        -0.15110591, -0.0622607 , -0.0267909 , -0.04431254, -0.01237751,\n",
       "        -0.0367749 , -0.10951738, -0.13946998,  0.03118503, -0.14571978,\n",
       "        -0.0603471 , -0.0217467 , -0.05891694, -0.08612208, -0.10535822,\n",
       "         0.01315008, -0.06726453, -0.11859074, -0.07644342, -0.05501843,\n",
       "        -0.00628512, -0.04582792, -0.10912802, -0.11354415, -0.06948131,\n",
       "        -0.12091673, -0.1371524 , -0.07097651, -0.08406497, -0.10664796,\n",
       "        -0.12705411, -0.08336148, -0.01895045, -0.02135141, -0.01052188,\n",
       "        -0.16195391, -0.16202231, -0.06656637, -0.1176708 ,  0.0234364 ,\n",
       "        -0.09171198, -0.04718288, -0.13495128, -0.13634826, -0.03524192,\n",
       "        -0.01587936, -0.05115045, -0.05811796, -0.20159581,  0.02063663,\n",
       "        -0.04688457, -0.15536833, -0.00522855, -0.17979789, -0.04789743,\n",
       "        -0.14564182, -0.00520301, -0.14280143, -0.11051679, -0.043032  ,\n",
       "        -0.12498192, -0.10220346, -0.1046326 , -0.1281416 , -0.04882176,\n",
       "        -0.16565268, -0.06510484, -0.08860467, -0.20128773, -0.13989617,\n",
       "        -0.0964005 , -0.03150472, -0.08223523, -0.05266045, -0.05160906,\n",
       "        -0.09373662, -0.00769619, -0.15225531, -0.12057309, -0.07786228,\n",
       "        -0.05735936,  0.00542588, -0.03767898, -0.07694452, -0.08059336,\n",
       "        -0.04340328, -0.09425579, -0.01872848, -0.0467487 , -0.00651399,\n",
       "        -0.09944329, -0.00508628, -0.14007424, -0.07696506, -0.14537123,\n",
       "         0.02773231, -0.02843365, -0.01324119, -0.07239601, -0.07254796,\n",
       "        -0.05596706, -0.10222591, -0.0565669 , -0.09539329, -0.04461581,\n",
       "        -0.13216746,  0.01389097,  0.04686365, -0.06765329, -0.02898245,\n",
       "        -0.09438536, -0.15635984, -0.16325247, -0.12397092,  0.0213964 ,\n",
       "        -0.05689101, -0.04982089, -0.10631754, -0.0907494 ,  0.02866452,\n",
       "        -0.03824592, -0.12632287, -0.06802478, -0.0442686 , -0.12118018,\n",
       "         0.03635306, -0.09741445, -0.14941478, -0.02348096, -0.03008787,\n",
       "        -0.14173566, -0.14613828, -0.13689205, -0.0488561 , -0.11416539,\n",
       "        -0.15578465, -0.1691265 , -0.05807121,  0.00668963, -0.06551871,\n",
       "        -0.14901358, -0.06782111, -0.11622579, -0.05861807, -0.07052489,\n",
       "        -0.077944  , -0.07534119,  0.01096577, -0.02359654, -0.00988999,\n",
       "        -0.06607895,  0.02751407, -0.04801097, -0.16092221,  0.00031606,\n",
       "        -0.11204823,  0.01396735, -0.06619797, -0.19327855, -0.08633775,\n",
       "        -0.10171054, -0.10390157, -0.15150794, -0.04617943, -0.10904638,\n",
       "        -0.04349811, -0.06693003, -0.09639507, -0.09222754, -0.0449826 ,\n",
       "        -0.07579695, -0.12324062, -0.04619176, -0.05955553,  0.0511992 ,\n",
       "        -0.02456146, -0.00139484, -0.06398671, -0.03145305, -0.04343317,\n",
       "        -0.11383067, -0.0671211 , -0.06132037, -0.08647378, -0.11494802,\n",
       "        -0.07067298, -0.15184091, -0.09762401, -0.08453339, -0.14585343,\n",
       "         0.02287943, -0.0576112 , -0.05696424, -0.0755303 , -0.10955574,\n",
       "         0.01703345, -0.06811582,  0.00881464, -0.10175735, -0.07991576,\n",
       "        -0.12035273, -0.12644835, -0.09688795, -0.09295229, -0.08830509,\n",
       "        -0.1383004 , -0.12302028, -0.01559622, -0.07142672, -0.13863015,\n",
       "        -0.00889837, -0.11872742,  0.00471201, -0.07266125, -0.0563703 ,\n",
       "        -0.20007315, -0.06648896,  0.00638001, -0.08885259, -0.17276575,\n",
       "        -0.04650879, -0.07599542, -0.09264013, -0.03368402, -0.10144728,\n",
       "        -0.10254651, -0.12137021,  0.01318642, -0.00956363, -0.10011369,\n",
       "        -0.08256359, -0.02591143,  0.03805126, -0.1564394 , -0.01867396,\n",
       "        -0.13514894,  0.01688827, -0.14360958,  0.02521889, -0.0951111 ,\n",
       "        -0.15592892, -0.14231782, -0.11763997, -0.09372526, -0.01585338,\n",
       "        -0.10422728, -0.11939114, -0.02722566,  0.01692944, -0.0914327 ,\n",
       "        -0.11120196, -0.0037668 , -0.09756017, -0.1956812 , -0.03909129,\n",
       "        -0.12733369, -0.11714007, -0.02419985, -0.0246567 ,  0.02665739,\n",
       "        -0.00947763, -0.07654522, -0.12133585, -0.08575594, -0.07626161,\n",
       "        -0.10142358, -0.05205921, -0.01819396, -0.1309664 , -0.07970257,\n",
       "        -0.10422964, -0.07945581, -0.04875573, -0.04113062, -0.12319713,\n",
       "        -0.09842672, -0.03563777,  0.04830615, -0.00275447, -0.05212849,\n",
       "        -0.01155817, -0.07645139, -0.05120772, -0.059409  , -0.0352818 ,\n",
       "        -0.16101265, -0.13355058], dtype=float32)]"
      ]
     },
     "execution_count": 64,
     "metadata": {},
     "output_type": "execute_result"
    }
   ],
   "source": [
    "model.layers[1].get_weights()"
   ]
  },
  {
   "cell_type": "code",
   "execution_count": 65,
   "id": "c8c8d349",
   "metadata": {},
   "outputs": [
    {
     "name": "stdout",
     "output_type": "stream",
     "text": [
      "100/100 [==============================] - 1s 7ms/step\n"
     ]
    }
   ],
   "source": [
    "y_log=model.predict(X_test)"
   ]
  },
  {
   "cell_type": "code",
   "execution_count": 66,
   "id": "77239acd",
   "metadata": {},
   "outputs": [],
   "source": [
    "y_pred=np.where(y_log>0.5,1,0)"
   ]
  },
  {
   "cell_type": "code",
   "execution_count": 67,
   "id": "db14ac21",
   "metadata": {},
   "outputs": [
    {
     "name": "stdout",
     "output_type": "stream",
     "text": [
      "\n",
      "Confusion matrix:\n",
      "\n",
      " [[1459  174]\n",
      " [ 202 1351]]\n",
      "\n",
      "\n",
      "Accuracy of the model : 0.8819836785938481\n",
      "\n",
      "\n",
      "classification report:\n",
      "               precision    recall  f1-score   support\n",
      "\n",
      "           0       0.88      0.89      0.89      1633\n",
      "           1       0.89      0.87      0.88      1553\n",
      "\n",
      "    accuracy                           0.88      3186\n",
      "   macro avg       0.88      0.88      0.88      3186\n",
      "weighted avg       0.88      0.88      0.88      3186\n",
      "\n"
     ]
    }
   ],
   "source": [
    "from sklearn.metrics import confusion_matrix, accuracy_score, classification_report\n",
    "cm = confusion_matrix(y_test, y_pred)\n",
    "print(\"\\nConfusion matrix:\\n\\n\",cm)\n",
    "print(\"\\n\")\n",
    "ac=accuracy_score(y_test,y_pred)\n",
    "print(\"Accuracy of the model :\",ac)\n",
    "print(\"\\n\")\n",
    "print(\"classification report:\\n\",classification_report(y_test, y_pred))"
   ]
  },
  {
   "cell_type": "code",
   "execution_count": 75,
   "id": "dedf1179",
   "metadata": {},
   "outputs": [
    {
     "name": "stdout",
     "output_type": "stream",
     "text": [
      "Model: \"model_4\"\n",
      "_________________________________________________________________\n",
      " Layer (type)                Output Shape              Param #   \n",
      "=================================================================\n",
      " input_5 (InputLayer)        [(None, 13)]              0         \n",
      "                                                                 \n",
      " dense_45 (Dense)            (None, 1024)              14336     \n",
      "                                                                 \n",
      " dropout_14 (Dropout)        (None, 1024)              0         \n",
      "                                                                 \n",
      " dense_46 (Dense)            (None, 512)               524800    \n",
      "                                                                 \n",
      " dropout_15 (Dropout)        (None, 512)               0         \n",
      "                                                                 \n",
      " dense_47 (Dense)            (None, 256)               131328    \n",
      "                                                                 \n",
      " dropout_16 (Dropout)        (None, 256)               0         \n",
      "                                                                 \n",
      " dense_48 (Dense)            (None, 256)               65792     \n",
      "                                                                 \n",
      " dropout_17 (Dropout)        (None, 256)               0         \n",
      "                                                                 \n",
      " dense_49 (Dense)            (None, 64)                16448     \n",
      "                                                                 \n",
      " dropout_18 (Dropout)        (None, 64)                0         \n",
      "                                                                 \n",
      " dense_50 (Dense)            (None, 32)                2080      \n",
      "                                                                 \n",
      " dropout_19 (Dropout)        (None, 32)                0         \n",
      "                                                                 \n",
      " dense_51 (Dense)            (None, 16)                528       \n",
      "                                                                 \n",
      " dropout_20 (Dropout)        (None, 16)                0         \n",
      "                                                                 \n",
      " dense_52 (Dense)            (None, 1)                 17        \n",
      "                                                                 \n",
      "=================================================================\n",
      "Total params: 755329 (2.88 MB)\n",
      "Trainable params: 755329 (2.88 MB)\n",
      "Non-trainable params: 0 (0.00 Byte)\n",
      "_________________________________________________________________\n",
      "Epoch 1/13\n",
      "399/399 [==============================] - 20s 39ms/step - loss: 0.3966 - accuracy: 0.8254 - val_loss: 0.2888 - val_accuracy: 0.8782\n",
      "Epoch 2/13\n",
      "399/399 [==============================] - 14s 36ms/step - loss: 0.3208 - accuracy: 0.8668 - val_loss: 0.2756 - val_accuracy: 0.8839\n",
      "Epoch 3/13\n",
      "399/399 [==============================] - 11s 29ms/step - loss: 0.3038 - accuracy: 0.8712 - val_loss: 0.2894 - val_accuracy: 0.8766\n",
      "Epoch 4/13\n",
      "399/399 [==============================] - 11s 29ms/step - loss: 0.2984 - accuracy: 0.8739 - val_loss: 0.2806 - val_accuracy: 0.8832\n",
      "Epoch 5/13\n",
      "399/399 [==============================] - 12s 30ms/step - loss: 0.2999 - accuracy: 0.8735 - val_loss: 0.2780 - val_accuracy: 0.8832\n",
      "Epoch 6/13\n",
      "399/399 [==============================] - 13s 32ms/step - loss: 0.2981 - accuracy: 0.8749 - val_loss: 0.2863 - val_accuracy: 0.8660\n",
      "Epoch 7/13\n",
      "399/399 [==============================] - 12s 30ms/step - loss: 0.2910 - accuracy: 0.8762 - val_loss: 0.2761 - val_accuracy: 0.8848\n",
      "Epoch 8/13\n",
      "399/399 [==============================] - 12s 31ms/step - loss: 0.2865 - accuracy: 0.8786 - val_loss: 0.2744 - val_accuracy: 0.8785\n",
      "Epoch 9/13\n",
      "399/399 [==============================] - 12s 30ms/step - loss: 0.2838 - accuracy: 0.8776 - val_loss: 0.2711 - val_accuracy: 0.8785\n",
      "Epoch 10/13\n",
      "399/399 [==============================] - 16s 41ms/step - loss: 0.2816 - accuracy: 0.8801 - val_loss: 0.2698 - val_accuracy: 0.8792\n",
      "Epoch 11/13\n",
      "399/399 [==============================] - 13s 31ms/step - loss: 0.2792 - accuracy: 0.8803 - val_loss: 0.2705 - val_accuracy: 0.8845\n",
      "Epoch 12/13\n",
      "399/399 [==============================] - 15s 38ms/step - loss: 0.2787 - accuracy: 0.8809 - val_loss: 0.2683 - val_accuracy: 0.8832\n",
      "Epoch 13/13\n",
      "399/399 [==============================] - 14s 34ms/step - loss: 0.2733 - accuracy: 0.8820 - val_loss: 0.2670 - val_accuracy: 0.8842\n"
     ]
    }
   ],
   "source": [
    "i = Input(shape=std_X_train[-1].shape)\n",
    "x = Dense(1024,  activation='relu')(i)\n",
    "x = Dropout(0.2)(x)\n",
    "x = Dense(512,  activation='relu')(x)\n",
    "x = Dropout(0.2)(x)\n",
    "x = Dense(256,  activation='relu')(x)\n",
    "x = Dropout(0.2)(x)\n",
    "x = Dense(256,  activation='relu')(x)\n",
    "x = Dropout(0.2)(x)\n",
    "x = Dense(64, activation='relu')(x)\n",
    "x = Dropout(0.2)(x)\n",
    "x = Dense(32, activation='relu')(x)\n",
    "x = Dropout(0.2)(x)\n",
    "x = Dense(16, activation='relu')(x)\n",
    "x = Dropout(0.4)(x)\n",
    "x = Dense(1, activation='sigmoid')(x)\n",
    "\n",
    "model = Model(i, x)\n",
    "\n",
    "import keras\n",
    "opt = keras.optimizers.Adam(learning_rate=0.001)\n",
    "\n",
    "model.compile(optimizer=opt,\n",
    "              loss='binary_crossentropy',\n",
    "              metrics=['accuracy'])\n",
    "model.summary()\n",
    "\n",
    "r = model.fit(X_train, y_train, validation_data=(X_test, y_test), epochs=13)"
   ]
  },
  {
   "cell_type": "code",
   "execution_count": 76,
   "id": "3e5f9ccc",
   "metadata": {},
   "outputs": [
    {
     "name": "stdout",
     "output_type": "stream",
     "text": [
      "You must install pydot (`pip install pydot`) and install graphviz (see instructions at https://graphviz.gitlab.io/download/) for plot_model to work.\n"
     ]
    }
   ],
   "source": [
    "from tensorflow.keras.utils import plot_model\n",
    "plot_model(model, show_shapes = True)"
   ]
  },
  {
   "cell_type": "code",
   "execution_count": 77,
   "id": "99355502",
   "metadata": {},
   "outputs": [
    {
     "data": {
      "text/plain": [
       "<matplotlib.legend.Legend at 0x23ed83769a0>"
      ]
     },
     "execution_count": 77,
     "metadata": {},
     "output_type": "execute_result"
    },
    {
     "data": {
      "image/png": "[encoded data removed]",
      "text/plain": [
       "<Figure size 432x288 with 1 Axes>"
      ]
     },
     "metadata": {
      "needs_background": "light"
     },
     "output_type": "display_data"
    }
   ],
   "source": [
    "import matplotlib.pyplot as plt\n",
    "plt.plot(r.history['loss'], label='loss')\n",
    "plt.plot(r.history['val_loss'], label='val_loss')\n",
    "plt.legend()"
   ]
  },
  {
   "cell_type": "code",
   "execution_count": 78,
   "id": "3a6c1d25",
   "metadata": {},
   "outputs": [
    {
     "data": {
      "text/plain": [
       "<matplotlib.legend.Legend at 0x23ed3a965b0>"
      ]
     },
     "execution_count": 78,
     "metadata": {},
     "output_type": "execute_result"
    },
    {
     "data": {
      "image/png": "[encoded data removed]",
      "text/plain": [
       "<Figure size 432x288 with 1 Axes>"
      ]
     },
     "metadata": {
      "needs_background": "light"
     },
     "output_type": "display_data"
    }
   ],
   "source": [
    "plt.plot(r.history['accuracy'], label='acc')\n",
    "plt.plot(r.history['val_accuracy'], label='val_acc')\n",
    "plt.legend()"
   ]
  },
  {
   "cell_type": "code",
   "execution_count": 79,
   "id": "cb834524",
   "metadata": {},
   "outputs": [
    {
     "name": "stdout",
     "output_type": "stream",
     "text": [
      "100/100 [==============================] - 1s 10ms/step\n"
     ]
    }
   ],
   "source": [
    "y_log=model.predict(X_test)"
   ]
  },
  {
   "cell_type": "code",
   "execution_count": 80,
   "id": "86787ad2",
   "metadata": {},
   "outputs": [],
   "source": [
    "y_pred=np.where(y_log>0.5,1,0)"
   ]
  },
  {
   "cell_type": "code",
   "execution_count": 81,
   "id": "4b7c4230",
   "metadata": {},
   "outputs": [
    {
     "name": "stdout",
     "output_type": "stream",
     "text": [
      "\n",
      "Confusion matrix:\n",
      "\n",
      " [[1520  113]\n",
      " [ 256 1297]]\n",
      "\n",
      "\n",
      "Accuracy of the model : 0.884180790960452\n",
      "\n",
      "\n",
      "classification report:\n",
      "               precision    recall  f1-score   support\n",
      "\n",
      "           0       0.86      0.93      0.89      1633\n",
      "           1       0.92      0.84      0.88      1553\n",
      "\n",
      "    accuracy                           0.88      3186\n",
      "   macro avg       0.89      0.88      0.88      3186\n",
      "weighted avg       0.89      0.88      0.88      3186\n",
      "\n"
     ]
    }
   ],
   "source": [
    "from sklearn.metrics import confusion_matrix, accuracy_score, classification_report\n",
    "cm = confusion_matrix(y_test, y_pred)\n",
    "print(\"\\nConfusion matrix:\\n\\n\",cm)\n",
    "print(\"\\n\")\n",
    "ac=accuracy_score(y_test,y_pred)\n",
    "print(\"Accuracy of the model :\",ac)\n",
    "print(\"\\n\")\n",
    "print(\"classification report:\\n\",classification_report(y_test, y_pred))"
   ]
  },
  {
   "cell_type": "code",
   "execution_count": 58,
   "id": "98ae067d",
   "metadata": {},
   "outputs": [
    {
     "name": "stdout",
     "output_type": "stream",
     "text": [
      "Model: \"sequential_13\"\n",
      "_________________________________________________________________\n",
      " Layer (type)                Output Shape              Param #   \n",
      "=================================================================\n",
      " lstm_84 (LSTM)              (None, 1, 512)            1077248   \n",
      "                                                                 \n",
      " lstm_85 (LSTM)              (None, 1, 512)            2099200   \n",
      "                                                                 \n",
      " lstm_86 (LSTM)              (None, 1, 256)            787456    \n",
      "                                                                 \n",
      " lstm_87 (LSTM)              (None, 1, 256)            525312    \n",
      "                                                                 \n",
      " lstm_88 (LSTM)              (None, 1, 64)             82176     \n",
      "                                                                 \n",
      " lstm_89 (LSTM)              (None, 1, 32)             12416     \n",
      "                                                                 \n",
      " lstm_90 (LSTM)              (None, 16)                3136      \n",
      "                                                                 \n",
      " dense_28 (Dense)            (None, 1)                 17        \n",
      "                                                                 \n",
      "=================================================================\n",
      "Total params: 4586961 (17.50 MB)\n",
      "Trainable params: 4586961 (17.50 MB)\n",
      "Non-trainable params: 0 (0.00 Byte)\n",
      "_________________________________________________________________\n",
      "Epoch 1/20\n",
      "128/128 [==============================] - 33s 174ms/step - loss: 0.6932 - accuracy: 0.4973 - val_loss: 0.6933 - val_accuracy: 0.4874\n",
      "Epoch 2/20\n",
      "128/128 [==============================] - 20s 156ms/step - loss: 0.6931 - accuracy: 0.5031 - val_loss: 0.6933 - val_accuracy: 0.4874\n",
      "Epoch 3/20\n",
      "128/128 [==============================] - 22s 172ms/step - loss: 0.6932 - accuracy: 0.5031 - val_loss: 0.6934 - val_accuracy: 0.4874\n",
      "Epoch 4/20\n",
      "128/128 [==============================] - 21s 161ms/step - loss: 0.4938 - accuracy: 0.7191 - val_loss: 0.3000 - val_accuracy: 0.8716\n",
      "Epoch 5/20\n",
      "128/128 [==============================] - 21s 161ms/step - loss: 0.2924 - accuracy: 0.8690 - val_loss: 0.2853 - val_accuracy: 0.8807\n",
      "Epoch 6/20\n",
      "128/128 [==============================] - 21s 164ms/step - loss: 0.2804 - accuracy: 0.8768 - val_loss: 0.2708 - val_accuracy: 0.8832\n",
      "Epoch 7/20\n",
      "128/128 [==============================] - 21s 162ms/step - loss: 0.2738 - accuracy: 0.8798 - val_loss: 0.2677 - val_accuracy: 0.8870\n",
      "Epoch 8/20\n",
      "128/128 [==============================] - 20s 156ms/step - loss: 0.2694 - accuracy: 0.8820 - val_loss: 0.2608 - val_accuracy: 0.8873\n",
      "Epoch 9/20\n",
      "128/128 [==============================] - 20s 153ms/step - loss: 0.2664 - accuracy: 0.8828 - val_loss: 0.2669 - val_accuracy: 0.8851\n",
      "Epoch 10/20\n",
      "128/128 [==============================] - 20s 157ms/step - loss: 0.2670 - accuracy: 0.8828 - val_loss: 0.2645 - val_accuracy: 0.8842\n",
      "Epoch 11/20\n",
      "128/128 [==============================] - 24s 190ms/step - loss: 0.2632 - accuracy: 0.8827 - val_loss: 0.2647 - val_accuracy: 0.8858\n",
      "Epoch 12/20\n",
      "128/128 [==============================] - 19s 151ms/step - loss: 0.2626 - accuracy: 0.8841 - val_loss: 0.2629 - val_accuracy: 0.8832\n",
      "Epoch 13/20\n",
      "128/128 [==============================] - 19s 151ms/step - loss: 0.2587 - accuracy: 0.8841 - val_loss: 0.2597 - val_accuracy: 0.8879\n",
      "Epoch 14/20\n",
      "128/128 [==============================] - 19s 149ms/step - loss: 0.2551 - accuracy: 0.8881 - val_loss: 0.2624 - val_accuracy: 0.8845\n",
      "Epoch 15/20\n",
      "128/128 [==============================] - 19s 150ms/step - loss: 0.2549 - accuracy: 0.8878 - val_loss: 0.2653 - val_accuracy: 0.8848\n",
      "Epoch 16/20\n",
      "128/128 [==============================] - 19s 148ms/step - loss: 0.2520 - accuracy: 0.8862 - val_loss: 0.2658 - val_accuracy: 0.8867\n",
      "Epoch 17/20\n",
      "128/128 [==============================] - 19s 149ms/step - loss: 0.2518 - accuracy: 0.8874 - val_loss: 0.2617 - val_accuracy: 0.8832\n",
      "Epoch 18/20\n",
      "128/128 [==============================] - 19s 150ms/step - loss: 0.2490 - accuracy: 0.8902 - val_loss: 0.2625 - val_accuracy: 0.8832\n",
      "Epoch 19/20\n",
      "128/128 [==============================] - 19s 150ms/step - loss: 0.2432 - accuracy: 0.8918 - val_loss: 0.2644 - val_accuracy: 0.8839\n",
      "Epoch 20/20\n",
      "128/128 [==============================] - 19s 151ms/step - loss: 0.2397 - accuracy: 0.8932 - val_loss: 0.2687 - val_accuracy: 0.8854\n"
     ]
    }
   ],
   "source": [
    "from tensorflow.keras.models import Sequential\n",
    "from tensorflow.keras.layers import LSTM, Dense\n",
    "batch_size = 100\n",
    "timesteps = 1\n",
    "\n",
    "std_X_train_reshaped = std_X_train.reshape(std_X_train.shape[0], timesteps, std_X_train.shape[1])\n",
    "std_X_test_reshaped = std_X_test.reshape(std_X_test.shape[0], timesteps, std_X_test.shape[1])\n",
    "\n",
    "model = Sequential()\n",
    "\n",
    "model.add(LSTM(512, activation='relu', return_sequences=True, input_shape=(timesteps, std_X_train.shape[1])))\n",
    "model.add(LSTM(512, activation='relu', return_sequences=True))\n",
    "model.add(LSTM(256, activation='relu', return_sequences=True))\n",
    "model.add(LSTM(256, activation='relu', return_sequences=True))\n",
    "model.add(LSTM(64, activation='relu', return_sequences=True))\n",
    "model.add(LSTM(32, activation='relu', return_sequences=True))\n",
    "model.add(LSTM(16, activation='relu'))\n",
    "model.add(Dense(1, activation='sigmoid'))\n",
    "\n",
    "model.compile(optimizer='adam',\n",
    "              loss='binary_crossentropy',\n",
    "              metrics=['accuracy'])\n",
    "\n",
    "model.summary()\n",
    "r = model.fit(std_X_train_reshaped, y_train, validation_data=(std_X_test_reshaped, y_test), epochs=20, batch_size=batch_size)\n"
   ]
  },
  {
   "cell_type": "code",
   "execution_count": 60,
   "id": "06bb02fe",
   "metadata": {},
   "outputs": [
    {
     "name": "stdout",
     "output_type": "stream",
     "text": [
      "100/100 [==============================] - 2s 17ms/step\n",
      "\n",
      "Confusion matrix:\n",
      "\n",
      " [[1494  139]\n",
      " [ 226 1327]]\n",
      "classification report:\n",
      "\n",
      "               precision    recall  f1-score   support\n",
      "\n",
      "           0       0.87      0.91      0.89      1633\n",
      "           1       0.91      0.85      0.88      1553\n",
      "\n",
      "    accuracy                           0.89      3186\n",
      "   macro avg       0.89      0.88      0.89      3186\n",
      "weighted avg       0.89      0.89      0.89      3186\n",
      "\n"
     ]
    }
   ],
   "source": [
    "from sklearn.metrics import confusion_matrix, accuracy_score, classification_report\n",
    "\n",
    "timesteps = 1  \n",
    "std_X_test_reshaped = std_X_test.reshape(std_X_test.shape[0], timesteps, std_X_test.shape[1])\n",
    "\n",
    "probabilities = model.predict(std_X_test_reshaped)\n",
    "\n",
    "predictions = (probabilities > 0.5).astype(int)\n",
    "cm = confusion_matrix(y_test, predictions)\n",
    "print(\"\\nConfusion matrix:\\n\\n\",cm)\n",
    "ac=accuracy_score(y_test,predictions)\n",
    "report = classification_report(y_test, predictions)\n",
    "\n",
    "print(\"\\n\\nclassification report:\\n\\n\",report)\n"
   ]
  },
  {
   "cell_type": "code",
   "execution_count": 82,
   "id": "f5fa788c",
   "metadata": {},
   "outputs": [
    {
     "data": {
      "text/plain": [
       "<matplotlib.legend.Legend at 0x23ec935eb80>"
      ]
     },
     "execution_count": 82,
     "metadata": {},
     "output_type": "execute_result"
    },
    {
     "data": {
      "image/png": "[encoded data removed]",
      "text/plain": [
       "<Figure size 432x288 with 1 Axes>"
      ]
     },
     "metadata": {
      "needs_background": "light"
     },
     "output_type": "display_data"
    }
   ],
   "source": [
    "plt.plot(r.history['accuracy'], label='acc')\n",
    "plt.plot(r.history['val_accuracy'], label='val_acc')\n",
    "plt.legend()"
   ]
  },
  {
   "cell_type": "code",
   "execution_count": 83,
   "id": "d2f268b1",
   "metadata": {},
   "outputs": [
    {
     "data": {
      "text/plain": [
       "<matplotlib.legend.Legend at 0x23ef8d15130>"
      ]
     },
     "execution_count": 83,
     "metadata": {},
     "output_type": "execute_result"
    },
    {
     "data": {
      "image/png": "[encoded data removed]",
      "text/plain": [
       "<Figure size 432x288 with 1 Axes>"
      ]
     },
     "metadata": {
      "needs_background": "light"
     },
     "output_type": "display_data"
    }
   ],
   "source": [
    "import matplotlib.pyplot as plt\n",
    "plt.plot(r.history['loss'], label='loss')\n",
    "plt.plot(r.history['val_loss'], label='val_loss')\n",
    "plt.legend()"
   ]
  },
  {
   "cell_type": "code",
   "execution_count": 89,
   "id": "17161af6",
   "metadata": {},
   "outputs": [
    {
     "name": "stdout",
     "output_type": "stream",
     "text": [
      "Model: \"sequential_18\"\n",
      "_________________________________________________________________\n",
      " Layer (type)                Output Shape              Param #   \n",
      "=================================================================\n",
      " lstm_112 (LSTM)             (None, 1, 512)            1077248   \n",
      "                                                                 \n",
      " dropout_42 (Dropout)        (None, 1, 512)            0         \n",
      "                                                                 \n",
      " lstm_113 (LSTM)             (None, 1, 512)            2099200   \n",
      "                                                                 \n",
      " dropout_43 (Dropout)        (None, 1, 512)            0         \n",
      "                                                                 \n",
      " lstm_114 (LSTM)             (None, 1, 256)            787456    \n",
      "                                                                 \n",
      " dropout_44 (Dropout)        (None, 1, 256)            0         \n",
      "                                                                 \n",
      " lstm_115 (LSTM)             (None, 1, 256)            525312    \n",
      "                                                                 \n",
      " dropout_45 (Dropout)        (None, 1, 256)            0         \n",
      "                                                                 \n",
      " lstm_116 (LSTM)             (None, 1, 64)             82176     \n",
      "                                                                 \n",
      " dropout_46 (Dropout)        (None, 1, 64)             0         \n",
      "                                                                 \n",
      " lstm_117 (LSTM)             (None, 1, 32)             12416     \n",
      "                                                                 \n",
      " dropout_47 (Dropout)        (None, 1, 32)             0         \n",
      "                                                                 \n",
      " lstm_118 (LSTM)             (None, 16)                3136      \n",
      "                                                                 \n",
      " dropout_48 (Dropout)        (None, 16)                0         \n",
      "                                                                 \n",
      " dense_56 (Dense)            (None, 1)                 17        \n",
      "                                                                 \n",
      "=================================================================\n",
      "Total params: 4586961 (17.50 MB)\n",
      "Trainable params: 4586961 (17.50 MB)\n",
      "Non-trainable params: 0 (0.00 Byte)\n",
      "_________________________________________________________________\n",
      "Epoch 1/17\n",
      "128/128 [==============================] - 44s 224ms/step - loss: 0.6932 - accuracy: 0.5015 - val_loss: 0.6932 - val_accuracy: 0.4874\n",
      "Epoch 2/17\n",
      "128/128 [==============================] - 27s 207ms/step - loss: 0.6931 - accuracy: 0.5031 - val_loss: 0.6933 - val_accuracy: 0.4874\n",
      "Epoch 3/17\n",
      "128/128 [==============================] - 22s 175ms/step - loss: 0.6931 - accuracy: 0.5031 - val_loss: 0.6933 - val_accuracy: 0.4874\n",
      "Epoch 4/17\n",
      "128/128 [==============================] - 23s 182ms/step - loss: 0.6931 - accuracy: 0.5031 - val_loss: 0.6933 - val_accuracy: 0.4874\n",
      "Epoch 5/17\n",
      "128/128 [==============================] - 22s 174ms/step - loss: 0.6932 - accuracy: 0.5031 - val_loss: 0.6933 - val_accuracy: 0.4874\n",
      "Epoch 6/17\n",
      "128/128 [==============================] - 22s 171ms/step - loss: 0.6031 - accuracy: 0.6053 - val_loss: 0.3296 - val_accuracy: 0.8575\n",
      "Epoch 7/17\n",
      "128/128 [==============================] - 23s 182ms/step - loss: 0.3368 - accuracy: 0.8566 - val_loss: 0.2893 - val_accuracy: 0.8766\n",
      "Epoch 8/17\n",
      "128/128 [==============================] - 23s 181ms/step - loss: 0.3039 - accuracy: 0.8703 - val_loss: 0.2829 - val_accuracy: 0.8842\n",
      "Epoch 9/17\n",
      "128/128 [==============================] - 24s 190ms/step - loss: 0.2993 - accuracy: 0.8737 - val_loss: 0.2846 - val_accuracy: 0.8763\n",
      "Epoch 10/17\n",
      "128/128 [==============================] - 27s 212ms/step - loss: 0.2962 - accuracy: 0.8743 - val_loss: 0.2803 - val_accuracy: 0.8726\n",
      "Epoch 11/17\n",
      "128/128 [==============================] - 25s 197ms/step - loss: 0.2924 - accuracy: 0.8761 - val_loss: 0.2645 - val_accuracy: 0.8854\n",
      "Epoch 12/17\n",
      "128/128 [==============================] - 28s 218ms/step - loss: 0.2895 - accuracy: 0.8769 - val_loss: 0.2681 - val_accuracy: 0.8848\n",
      "Epoch 13/17\n",
      "128/128 [==============================] - 26s 204ms/step - loss: 0.2837 - accuracy: 0.8783 - val_loss: 0.2613 - val_accuracy: 0.8898\n",
      "Epoch 14/17\n",
      "128/128 [==============================] - 26s 205ms/step - loss: 0.2851 - accuracy: 0.8801 - val_loss: 0.2638 - val_accuracy: 0.8861\n",
      "Epoch 15/17\n",
      "128/128 [==============================] - 23s 181ms/step - loss: 0.2780 - accuracy: 0.8802 - val_loss: 0.2645 - val_accuracy: 0.8908\n",
      "Epoch 16/17\n",
      "128/128 [==============================] - 24s 184ms/step - loss: 0.2754 - accuracy: 0.8784 - val_loss: 0.2612 - val_accuracy: 0.8851\n",
      "Epoch 17/17\n",
      "128/128 [==============================] - 24s 189ms/step - loss: 0.2798 - accuracy: 0.8827 - val_loss: 0.2657 - val_accuracy: 0.8873\n"
     ]
    }
   ],
   "source": [
    "from tensorflow.keras.models import Sequential\n",
    "from tensorflow.keras.layers import LSTM, Dense, Dropout\n",
    "\n",
    "batch_size = 100\n",
    "\n",
    "timesteps = 1\n",
    "std_X_train_reshaped = std_X_train.reshape(std_X_train.shape[0], timesteps, std_X_train.shape[1])\n",
    "std_X_test_reshaped = std_X_test.reshape(std_X_test.shape[0], timesteps, std_X_test.shape[1])\n",
    "\n",
    "model = Sequential()\n",
    "\n",
    "model.add(LSTM(512, activation='relu', return_sequences=True, input_shape=(timesteps, std_X_train.shape[1])))\n",
    "model.add(Dropout(0.2)) \n",
    "model.add(LSTM(512, activation='relu', return_sequences=True))\n",
    "model.add(Dropout(0.2)) \n",
    "model.add(LSTM(256, activation='relu', return_sequences=True))\n",
    "model.add(Dropout(0.2)) \n",
    "model.add(LSTM(256, activation='relu', return_sequences=True))\n",
    "model.add(Dropout(0.2)) \n",
    "model.add(LSTM(64, activation='relu', return_sequences=True))\n",
    "model.add(Dropout(0.2))\n",
    "model.add(LSTM(32, activation='relu', return_sequences=True))\n",
    "model.add(Dropout(0.2)) \n",
    "model.add(LSTM(16, activation='relu'))\n",
    "model.add(Dropout(0.4)) \n",
    "model.add(Dense(1, activation='sigmoid'))\n",
    "\n",
    "model.compile(optimizer='adam',\n",
    "              loss='binary_crossentropy',\n",
    "              metrics=['accuracy'])\n",
    "\n",
    "model.summary()\n",
    "r = model.fit(std_X_train_reshaped, y_train, validation_data=(std_X_test_reshaped, y_test), epochs=17, batch_size=batch_size)\n"
   ]
  },
  {
   "cell_type": "code",
   "execution_count": 91,
   "id": "c48f1806",
   "metadata": {},
   "outputs": [
    {
     "data": {
      "text/plain": [
       "<matplotlib.legend.Legend at 0x23e8031f280>"
      ]
     },
     "execution_count": 91,
     "metadata": {},
     "output_type": "execute_result"
    },
    {
     "data": {
      "image/png": "[encoded data removed]",
      "text/plain": [
       "<Figure size 432x288 with 1 Axes>"
      ]
     },
     "metadata": {
      "needs_background": "light"
     },
     "output_type": "display_data"
    }
   ],
   "source": [
    "plt.plot(r.history['accuracy'], label='acc')\n",
    "plt.plot(r.history['val_accuracy'], label='val_acc')\n",
    "plt.legend()"
   ]
  },
  {
   "cell_type": "code",
   "execution_count": 92,
   "id": "76756437",
   "metadata": {},
   "outputs": [
    {
     "data": {
      "text/plain": [
       "<matplotlib.legend.Legend at 0x23e80398af0>"
      ]
     },
     "execution_count": 92,
     "metadata": {},
     "output_type": "execute_result"
    },
    {
     "data": {
      "image/png": "[encoded data removed]",
      "text/plain": [
       "<Figure size 432x288 with 1 Axes>"
      ]
     },
     "metadata": {
      "needs_background": "light"
     },
     "output_type": "display_data"
    }
   ],
   "source": [
    "import matplotlib.pyplot as plt\n",
    "plt.plot(r.history['loss'], label='loss')\n",
    "plt.plot(r.history['val_loss'], label='val_loss')\n",
    "plt.legend()"
   ]
  },
  {
   "cell_type": "code",
   "execution_count": 93,
   "id": "36c8a18c",
   "metadata": {},
   "outputs": [
    {
     "name": "stdout",
     "output_type": "stream",
     "text": [
      "100/100 [==============================] - 3s 29ms/step\n",
      "\n",
      "Confusion matrix:\n",
      "\n",
      " [[1515  118]\n",
      " [ 241 1312]]\n",
      "\n",
      "\n",
      "classification report:\n",
      "\n",
      "               precision    recall  f1-score   support\n",
      "\n",
      "           0       0.86      0.93      0.89      1633\n",
      "           1       0.92      0.84      0.88      1553\n",
      "\n",
      "    accuracy                           0.89      3186\n",
      "   macro avg       0.89      0.89      0.89      3186\n",
      "weighted avg       0.89      0.89      0.89      3186\n",
      "\n"
     ]
    }
   ],
   "source": [
    "from sklearn.metrics import confusion_matrix, accuracy_score, classification_report\n",
    "\n",
    "std_X_test_reshaped = std_X_test.reshape(std_X_test.shape[0], timesteps, std_X_test.shape[1])\n",
    "\n",
    "probabilities = model.predict(std_X_test_reshaped)\n",
    "predictions = (probabilities > 0.5).astype(int)\n",
    "cm = confusion_matrix(y_test, predictions)\n",
    "print(\"\\nConfusion matrix:\\n\\n\",cm)\n",
    "ac=accuracy_score(y_test,predictions)\n",
    "report = classification_report(y_test, predictions)\n",
    "\n",
    "print(\"\\n\\nclassification report:\\n\\n\",report)\n"
   ]
  },
  {
   "cell_type": "code",
   "execution_count": null,
   "id": "bbb4342f",
   "metadata": {},
   "outputs": [],
   "source": []
  }
 ],
 "metadata": {
  "kernelspec": {
   "display_name": "Python 3 (ipykernel)",
   "language": "python",
   "name": "python3"
  },
  "language_info": {
   "codemirror_mode": {
    "name": "ipython",
    "version": 3
   },
   "file_extension": ".py",
   "mimetype": "text/x-python",
   "name": "python",
   "nbconvert_exporter": "python",
   "pygments_lexer": "ipython3",
   "version": "3.9.12"
  }
 },
 "nbformat": 4,
 "nbformat_minor": 5
}
